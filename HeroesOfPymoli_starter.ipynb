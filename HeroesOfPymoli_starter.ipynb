{
 "cells": [
  {
   "cell_type": "markdown",
   "metadata": {},
   "source": [
    "### Heroes Of Pymoli Data Analysis\n",
    "* Of the 1163 active players, the vast majority are male (84%). There also exists, a smaller, but notable proportion of female players (14%).\n",
    "\n",
    "* Our peak age demographic falls between 20-24 (44.8%) with secondary groups falling between 15-19 (18.60%) and 25-29 (13.4%).  \n",
    "-----"
   ]
  },
  {
   "cell_type": "markdown",
   "metadata": {},
   "source": [
    "### Note\n",
    "* Instructions have been included for each segment. You do not have to follow them exactly, but they are included to help you think through the steps."
   ]
  },
  {
   "cell_type": "code",
   "execution_count": 1,
   "metadata": {},
   "outputs": [],
   "source": [
    "# Dependencies and Setup\n",
    "import pandas as pd\n",
    "import numpy as np\n",
    "\n",
    "# File to Load (Remember to Change These)\n",
    "file_to_load = \"Resources/purchase_data.csv\"\n",
    "\n",
    "# Read Purchasing File and store into Pandas data frame\n",
    "purchase_data = pd.read_csv(file_to_load)"
   ]
  },
  {
   "cell_type": "markdown",
   "metadata": {},
   "source": [
    "## Player Count"
   ]
  },
  {
   "cell_type": "markdown",
   "metadata": {},
   "source": [
    "* Display the total number of players\n"
   ]
  },
  {
   "cell_type": "code",
   "execution_count": 2,
   "metadata": {},
   "outputs": [
    {
     "data": {
      "text/html": [
       "<div>\n",
       "<style scoped>\n",
       "    .dataframe tbody tr th:only-of-type {\n",
       "        vertical-align: middle;\n",
       "    }\n",
       "\n",
       "    .dataframe tbody tr th {\n",
       "        vertical-align: top;\n",
       "    }\n",
       "\n",
       "    .dataframe thead th {\n",
       "        text-align: right;\n",
       "    }\n",
       "</style>\n",
       "<table border=\"1\" class=\"dataframe\">\n",
       "  <thead>\n",
       "    <tr style=\"text-align: right;\">\n",
       "      <th></th>\n",
       "      <th>Purchase ID</th>\n",
       "      <th>SN</th>\n",
       "      <th>Age</th>\n",
       "      <th>Gender</th>\n",
       "      <th>Item ID</th>\n",
       "      <th>Item Name</th>\n",
       "      <th>Price</th>\n",
       "    </tr>\n",
       "  </thead>\n",
       "  <tbody>\n",
       "    <tr>\n",
       "      <th>0</th>\n",
       "      <td>0</td>\n",
       "      <td>Lisim78</td>\n",
       "      <td>20</td>\n",
       "      <td>Male</td>\n",
       "      <td>108</td>\n",
       "      <td>Extraction, Quickblade Of Trembling Hands</td>\n",
       "      <td>3.53</td>\n",
       "    </tr>\n",
       "    <tr>\n",
       "      <th>1</th>\n",
       "      <td>1</td>\n",
       "      <td>Lisovynya38</td>\n",
       "      <td>40</td>\n",
       "      <td>Male</td>\n",
       "      <td>143</td>\n",
       "      <td>Frenzied Scimitar</td>\n",
       "      <td>1.56</td>\n",
       "    </tr>\n",
       "    <tr>\n",
       "      <th>2</th>\n",
       "      <td>2</td>\n",
       "      <td>Ithergue48</td>\n",
       "      <td>24</td>\n",
       "      <td>Male</td>\n",
       "      <td>92</td>\n",
       "      <td>Final Critic</td>\n",
       "      <td>4.88</td>\n",
       "    </tr>\n",
       "    <tr>\n",
       "      <th>3</th>\n",
       "      <td>3</td>\n",
       "      <td>Chamassasya86</td>\n",
       "      <td>24</td>\n",
       "      <td>Male</td>\n",
       "      <td>100</td>\n",
       "      <td>Blindscythe</td>\n",
       "      <td>3.27</td>\n",
       "    </tr>\n",
       "    <tr>\n",
       "      <th>4</th>\n",
       "      <td>4</td>\n",
       "      <td>Iskosia90</td>\n",
       "      <td>23</td>\n",
       "      <td>Male</td>\n",
       "      <td>131</td>\n",
       "      <td>Fury</td>\n",
       "      <td>1.44</td>\n",
       "    </tr>\n",
       "  </tbody>\n",
       "</table>\n",
       "</div>"
      ],
      "text/plain": [
       "   Purchase ID             SN  Age Gender  Item ID  \\\n",
       "0            0        Lisim78   20   Male      108   \n",
       "1            1    Lisovynya38   40   Male      143   \n",
       "2            2     Ithergue48   24   Male       92   \n",
       "3            3  Chamassasya86   24   Male      100   \n",
       "4            4      Iskosia90   23   Male      131   \n",
       "\n",
       "                                   Item Name  Price  \n",
       "0  Extraction, Quickblade Of Trembling Hands   3.53  \n",
       "1                          Frenzied Scimitar   1.56  \n",
       "2                               Final Critic   4.88  \n",
       "3                                Blindscythe   3.27  \n",
       "4                                       Fury   1.44  "
      ]
     },
     "execution_count": 2,
     "metadata": {},
     "output_type": "execute_result"
    }
   ],
   "source": [
    "purchase_data.head()"
   ]
  },
  {
   "cell_type": "code",
   "execution_count": 3,
   "metadata": {},
   "outputs": [
    {
     "data": {
      "text/html": [
       "<div>\n",
       "<style scoped>\n",
       "    .dataframe tbody tr th:only-of-type {\n",
       "        vertical-align: middle;\n",
       "    }\n",
       "\n",
       "    .dataframe tbody tr th {\n",
       "        vertical-align: top;\n",
       "    }\n",
       "\n",
       "    .dataframe thead th {\n",
       "        text-align: right;\n",
       "    }\n",
       "</style>\n",
       "<table border=\"1\" class=\"dataframe\">\n",
       "  <thead>\n",
       "    <tr style=\"text-align: right;\">\n",
       "      <th></th>\n",
       "      <th>Total Number of Players</th>\n",
       "    </tr>\n",
       "  </thead>\n",
       "  <tbody>\n",
       "    <tr>\n",
       "      <th>0</th>\n",
       "      <td>576</td>\n",
       "    </tr>\n",
       "  </tbody>\n",
       "</table>\n",
       "</div>"
      ],
      "text/plain": [
       "   Total Number of Players\n",
       "0                      576"
      ]
     },
     "execution_count": 3,
     "metadata": {},
     "output_type": "execute_result"
    }
   ],
   "source": [
    "\n",
    "total_num_players = purchase_data['SN'].nunique()\n",
    "total_purchases_df = pd.DataFrame({\"Total Number of Players\":[total_num_players]})\n",
    "total_purchases_df"
   ]
  },
  {
   "cell_type": "markdown",
   "metadata": {},
   "source": [
    "## Purchasing Analysis (Total)"
   ]
  },
  {
   "cell_type": "code",
   "execution_count": 8,
   "metadata": {},
   "outputs": [],
   "source": [
    "total_purchaces = (purchase_data[\"Purchase ID\"]).count()\n",
    "total_items = purchase_data['Item ID'].nunique()\n",
    "average_price = round(purchase_data['Price'].mean(),2)\n",
    "total_rev = purchase_data['Price'].sum()"
   ]
  },
  {
   "cell_type": "markdown",
   "metadata": {},
   "source": [
    "* Run basic calculations to obtain number of unique items, average price, etc.\n",
    "\n",
    "\n",
    "* Create a summary data frame to hold the results\n",
    "\n",
    "\n",
    "* Optional: give the displayed data cleaner formatting\n",
    "\n",
    "\n",
    "* Display the summary data frame\n"
   ]
  },
  {
   "cell_type": "code",
   "execution_count": 9,
   "metadata": {
    "scrolled": true
   },
   "outputs": [
    {
     "data": {
      "text/html": [
       "<div>\n",
       "<style scoped>\n",
       "    .dataframe tbody tr th:only-of-type {\n",
       "        vertical-align: middle;\n",
       "    }\n",
       "\n",
       "    .dataframe tbody tr th {\n",
       "        vertical-align: top;\n",
       "    }\n",
       "\n",
       "    .dataframe thead th {\n",
       "        text-align: right;\n",
       "    }\n",
       "</style>\n",
       "<table border=\"1\" class=\"dataframe\">\n",
       "  <thead>\n",
       "    <tr style=\"text-align: right;\">\n",
       "      <th></th>\n",
       "      <th>Number of Unique Items</th>\n",
       "      <th>Average Price</th>\n",
       "      <th>Number of Purchases</th>\n",
       "      <th>Total Revenue</th>\n",
       "    </tr>\n",
       "  </thead>\n",
       "  <tbody>\n",
       "    <tr>\n",
       "      <th>0</th>\n",
       "      <td>183</td>\n",
       "      <td>$3.05</td>\n",
       "      <td>780</td>\n",
       "      <td>$2379.77</td>\n",
       "    </tr>\n",
       "  </tbody>\n",
       "</table>\n",
       "</div>"
      ],
      "text/plain": [
       "   Number of Unique Items Average Price  Number of Purchases Total Revenue\n",
       "0                     183         $3.05                  780      $2379.77"
      ]
     },
     "execution_count": 9,
     "metadata": {},
     "output_type": "execute_result"
    }
   ],
   "source": [
    "purchase_analysis_df = pd.DataFrame({\"Number of Unique Items\":[total_items], \"Average Price\":\"$\"+str(average_price), \n",
    "                        \"Number of Purchases\":[total_purchaces], \"Total Revenue\":\"$\"+str(total_rev)})\n",
    "purchase_analysis_df"
   ]
  },
  {
   "cell_type": "markdown",
   "metadata": {},
   "source": [
    "## Gender Demographics"
   ]
  },
  {
   "cell_type": "markdown",
   "metadata": {},
   "source": [
    "* Percentage and Count of Male Players\n",
    "\n",
    "\n",
    "* Percentage and Count of Female Players\n",
    "\n",
    "\n",
    "* Percentage and Count of Other / Non-Disclosed\n",
    "\n",
    "\n"
   ]
  },
  {
   "cell_type": "code",
   "execution_count": 10,
   "metadata": {},
   "outputs": [
    {
     "data": {
      "text/html": [
       "<div>\n",
       "<style scoped>\n",
       "    .dataframe tbody tr th:only-of-type {\n",
       "        vertical-align: middle;\n",
       "    }\n",
       "\n",
       "    .dataframe tbody tr th {\n",
       "        vertical-align: top;\n",
       "    }\n",
       "\n",
       "    .dataframe thead th {\n",
       "        text-align: right;\n",
       "    }\n",
       "</style>\n",
       "<table border=\"1\" class=\"dataframe\">\n",
       "  <thead>\n",
       "    <tr style=\"text-align: right;\">\n",
       "      <th></th>\n",
       "      <th>Total Count</th>\n",
       "      <th>Percentage of Players</th>\n",
       "    </tr>\n",
       "  </thead>\n",
       "  <tbody>\n",
       "    <tr>\n",
       "      <th>Male</th>\n",
       "      <td>652</td>\n",
       "      <td>83.59%</td>\n",
       "    </tr>\n",
       "    <tr>\n",
       "      <th>Female</th>\n",
       "      <td>113</td>\n",
       "      <td>14.49%</td>\n",
       "    </tr>\n",
       "    <tr>\n",
       "      <th>Other / Non-Disclosed</th>\n",
       "      <td>15</td>\n",
       "      <td>1.92%</td>\n",
       "    </tr>\n",
       "  </tbody>\n",
       "</table>\n",
       "</div>"
      ],
      "text/plain": [
       "                       Total Count Percentage of Players\n",
       "Male                           652                83.59%\n",
       "Female                         113                14.49%\n",
       "Other / Non-Disclosed           15                 1.92%"
      ]
     },
     "execution_count": 10,
     "metadata": {},
     "output_type": "execute_result"
    }
   ],
   "source": [
    "gender_purchase_df = pd.DataFrame(purchase_data['Gender'].value_counts())\n",
    "gender_purchase_df.set_index('Gender')\n",
    "gender_purchase_df.columns = [\"Total Count\"]\n",
    "gender_purchase_df['Percentage of Players'] = ((gender_purchase_df[\"Total Count\"] / gender_purchase_df[\"Total Count\"].sum()).apply('{:.2%}'.format))\n",
    "gender_purchase_df"
   ]
  },
  {
   "cell_type": "markdown",
   "metadata": {},
   "source": [
    "\n",
    "## Purchasing Analysis (Gender)"
   ]
  },
  {
   "cell_type": "code",
   "execution_count": 12,
   "metadata": {},
   "outputs": [
    {
     "data": {
      "text/html": [
       "<style  type=\"text/css\" >\n",
       "</style>  \n",
       "<table id=\"T_98701914_47bf_11e9_a7c4_b4ae2bd8ef30\" > \n",
       "<thead>    <tr> \n",
       "        <th class=\"blank level0\" ></th> \n",
       "        <th class=\"col_heading level0 col0\" >Purchase Count</th> \n",
       "        <th class=\"col_heading level0 col1\" >Average Purchase Price</th> \n",
       "        <th class=\"col_heading level0 col2\" >Average Purchase Value</th> \n",
       "        <th class=\"col_heading level0 col3\" >Avg Purchase Total per Person</th> \n",
       "    </tr>    <tr> \n",
       "        <th class=\"index_name level0\" >Gender</th> \n",
       "        <th class=\"blank\" ></th> \n",
       "        <th class=\"blank\" ></th> \n",
       "        <th class=\"blank\" ></th> \n",
       "        <th class=\"blank\" ></th> \n",
       "    </tr></thead> \n",
       "<tbody>    <tr> \n",
       "        <th id=\"T_98701914_47bf_11e9_a7c4_b4ae2bd8ef30level0_row0\" class=\"row_heading level0 row0\" >Female</th> \n",
       "        <td id=\"T_98701914_47bf_11e9_a7c4_b4ae2bd8ef30row0_col0\" class=\"data row0 col0\" >113</td> \n",
       "        <td id=\"T_98701914_47bf_11e9_a7c4_b4ae2bd8ef30row0_col1\" class=\"data row0 col1\" >$3.20</td> \n",
       "        <td id=\"T_98701914_47bf_11e9_a7c4_b4ae2bd8ef30row0_col2\" class=\"data row0 col2\" >$361.94</td> \n",
       "        <td id=\"T_98701914_47bf_11e9_a7c4_b4ae2bd8ef30row0_col3\" class=\"data row0 col3\" >$4.47</td> \n",
       "    </tr>    <tr> \n",
       "        <th id=\"T_98701914_47bf_11e9_a7c4_b4ae2bd8ef30level0_row1\" class=\"row_heading level0 row1\" >Male</th> \n",
       "        <td id=\"T_98701914_47bf_11e9_a7c4_b4ae2bd8ef30row1_col0\" class=\"data row1 col0\" >652</td> \n",
       "        <td id=\"T_98701914_47bf_11e9_a7c4_b4ae2bd8ef30row1_col1\" class=\"data row1 col1\" >$3.02</td> \n",
       "        <td id=\"T_98701914_47bf_11e9_a7c4_b4ae2bd8ef30row1_col2\" class=\"data row1 col2\" >$1,967.64</td> \n",
       "        <td id=\"T_98701914_47bf_11e9_a7c4_b4ae2bd8ef30row1_col3\" class=\"data row1 col3\" >$4.07</td> \n",
       "    </tr>    <tr> \n",
       "        <th id=\"T_98701914_47bf_11e9_a7c4_b4ae2bd8ef30level0_row2\" class=\"row_heading level0 row2\" >Other / Non-Disclosed</th> \n",
       "        <td id=\"T_98701914_47bf_11e9_a7c4_b4ae2bd8ef30row2_col0\" class=\"data row2 col0\" >15</td> \n",
       "        <td id=\"T_98701914_47bf_11e9_a7c4_b4ae2bd8ef30row2_col1\" class=\"data row2 col1\" >$3.35</td> \n",
       "        <td id=\"T_98701914_47bf_11e9_a7c4_b4ae2bd8ef30row2_col2\" class=\"data row2 col2\" >$50.19</td> \n",
       "        <td id=\"T_98701914_47bf_11e9_a7c4_b4ae2bd8ef30row2_col3\" class=\"data row2 col3\" >$4.56</td> \n",
       "    </tr></tbody> \n",
       "</table> "
      ],
      "text/plain": [
       "<pandas.io.formats.style.Styler at 0x1ed248959b0>"
      ]
     },
     "execution_count": 12,
     "metadata": {},
     "output_type": "execute_result"
    }
   ],
   "source": [
    "gender_group = purchase_data.groupby(\"Gender\")\n",
    "purchase_count = gender_group[\"Purchase ID\"].count()\n",
    "\n",
    "average_purchase_price = gender_group[\"Price\"].mean()\n",
    "average_purchase_total = gender_group[\"Price\"].sum()\n",
    "total_count_gender = gender_group.nunique()[\"SN\"]\n",
    "average_purchase_per_person = average_purchase_total/total_count_gender\n",
    "\n",
    "purchasing_analysis_gender = pd.DataFrame({\"Purchase Count\": purchase_count,\"Average Purchase Price\": average_purchase_price,\n",
    "                                    \"Average Purchase Value\":average_purchase_total,\"Avg Purchase Total per Person\": average_purchase_per_person})\n",
    "\n",
    "purchasing_analysis_gender.index.name = \"Gender\"\n",
    "\n",
    "purchasing_analysis_gender.style.format({\"Average Purchase Value\":\"${:,.2f}\",\"Average Purchase Price\":\"${:,.2f}\",\"Avg Purchase Total per Person\":\"${:,.2f}\"})"
   ]
  },
  {
   "cell_type": "markdown",
   "metadata": {},
   "source": [
    "* Run basic calculations to obtain purchase count, avg. purchase price, avg. purchase total per person etc. by gender\n",
    "\n",
    "\n",
    "\n",
    "\n",
    "* Create a summary data frame to hold the results\n",
    "\n",
    "\n",
    "* Optional: give the displayed data cleaner formatting\n",
    "\n",
    "\n",
    "* Display the summary data frame"
   ]
  },
  {
   "cell_type": "markdown",
   "metadata": {},
   "source": [
    "## Age Demographics"
   ]
  },
  {
   "cell_type": "markdown",
   "metadata": {},
   "source": [
    "* Establish bins for ages\n",
    "\n",
    "\n",
    "* Categorize the existing players using the age bins. Hint: use pd.cut()\n",
    "\n",
    "\n",
    "* Calculate the numbers and percentages by age group\n",
    "\n",
    "\n",
    "* Create a summary data frame to hold the results\n",
    "\n",
    "\n",
    "* Optional: round the percentage column to two decimal points\n",
    "\n",
    "\n",
    "* Display Age Demographics Table\n"
   ]
  },
  {
   "cell_type": "code",
   "execution_count": 14,
   "metadata": {
    "scrolled": true
   },
   "outputs": [
    {
     "data": {
      "text/html": [
       "<style  type=\"text/css\" >\n",
       "</style>  \n",
       "<table id=\"T_cdb0d886_47bf_11e9_806d_b4ae2bd8ef30\" > \n",
       "<thead>    <tr> \n",
       "        <th class=\"blank level0\" ></th> \n",
       "        <th class=\"col_heading level0 col0\" >Percentage of Players</th> \n",
       "        <th class=\"col_heading level0 col1\" >Total Count</th> \n",
       "    </tr></thead> \n",
       "<tbody>    <tr> \n",
       "        <th id=\"T_cdb0d886_47bf_11e9_806d_b4ae2bd8ef30level0_row0\" class=\"row_heading level0 row0\" ><10</th> \n",
       "        <td id=\"T_cdb0d886_47bf_11e9_806d_b4ae2bd8ef30row0_col0\" class=\"data row0 col0\" >2.95</td> \n",
       "        <td id=\"T_cdb0d886_47bf_11e9_806d_b4ae2bd8ef30row0_col1\" class=\"data row0 col1\" >17</td> \n",
       "    </tr>    <tr> \n",
       "        <th id=\"T_cdb0d886_47bf_11e9_806d_b4ae2bd8ef30level0_row1\" class=\"row_heading level0 row1\" >10-14</th> \n",
       "        <td id=\"T_cdb0d886_47bf_11e9_806d_b4ae2bd8ef30row1_col0\" class=\"data row1 col0\" >3.82</td> \n",
       "        <td id=\"T_cdb0d886_47bf_11e9_806d_b4ae2bd8ef30row1_col1\" class=\"data row1 col1\" >22</td> \n",
       "    </tr>    <tr> \n",
       "        <th id=\"T_cdb0d886_47bf_11e9_806d_b4ae2bd8ef30level0_row2\" class=\"row_heading level0 row2\" >15-19</th> \n",
       "        <td id=\"T_cdb0d886_47bf_11e9_806d_b4ae2bd8ef30row2_col0\" class=\"data row2 col0\" >18.58</td> \n",
       "        <td id=\"T_cdb0d886_47bf_11e9_806d_b4ae2bd8ef30row2_col1\" class=\"data row2 col1\" >107</td> \n",
       "    </tr>    <tr> \n",
       "        <th id=\"T_cdb0d886_47bf_11e9_806d_b4ae2bd8ef30level0_row3\" class=\"row_heading level0 row3\" >20-24</th> \n",
       "        <td id=\"T_cdb0d886_47bf_11e9_806d_b4ae2bd8ef30row3_col0\" class=\"data row3 col0\" >44.79</td> \n",
       "        <td id=\"T_cdb0d886_47bf_11e9_806d_b4ae2bd8ef30row3_col1\" class=\"data row3 col1\" >258</td> \n",
       "    </tr>    <tr> \n",
       "        <th id=\"T_cdb0d886_47bf_11e9_806d_b4ae2bd8ef30level0_row4\" class=\"row_heading level0 row4\" >25-29</th> \n",
       "        <td id=\"T_cdb0d886_47bf_11e9_806d_b4ae2bd8ef30row4_col0\" class=\"data row4 col0\" >13.37</td> \n",
       "        <td id=\"T_cdb0d886_47bf_11e9_806d_b4ae2bd8ef30row4_col1\" class=\"data row4 col1\" >77</td> \n",
       "    </tr>    <tr> \n",
       "        <th id=\"T_cdb0d886_47bf_11e9_806d_b4ae2bd8ef30level0_row5\" class=\"row_heading level0 row5\" >30-34</th> \n",
       "        <td id=\"T_cdb0d886_47bf_11e9_806d_b4ae2bd8ef30row5_col0\" class=\"data row5 col0\" >9.03</td> \n",
       "        <td id=\"T_cdb0d886_47bf_11e9_806d_b4ae2bd8ef30row5_col1\" class=\"data row5 col1\" >52</td> \n",
       "    </tr>    <tr> \n",
       "        <th id=\"T_cdb0d886_47bf_11e9_806d_b4ae2bd8ef30level0_row6\" class=\"row_heading level0 row6\" >35-39</th> \n",
       "        <td id=\"T_cdb0d886_47bf_11e9_806d_b4ae2bd8ef30row6_col0\" class=\"data row6 col0\" >5.38</td> \n",
       "        <td id=\"T_cdb0d886_47bf_11e9_806d_b4ae2bd8ef30row6_col1\" class=\"data row6 col1\" >31</td> \n",
       "    </tr>    <tr> \n",
       "        <th id=\"T_cdb0d886_47bf_11e9_806d_b4ae2bd8ef30level0_row7\" class=\"row_heading level0 row7\" >40+</th> \n",
       "        <td id=\"T_cdb0d886_47bf_11e9_806d_b4ae2bd8ef30row7_col0\" class=\"data row7 col0\" >2.08</td> \n",
       "        <td id=\"T_cdb0d886_47bf_11e9_806d_b4ae2bd8ef30row7_col1\" class=\"data row7 col1\" >12</td> \n",
       "    </tr></tbody> \n",
       "</table> "
      ],
      "text/plain": [
       "<pandas.io.formats.style.Styler at 0x1ed25118860>"
      ]
     },
     "execution_count": 14,
     "metadata": {},
     "output_type": "execute_result"
    }
   ],
   "source": [
    "age_bins = [0, 9.90, 14.90, 19.90, 24.90, 29.90, 34.90, 39.90, 99999]\n",
    "group_labels = [\"<10\", \"10-14\", \"15-19\", \"20-24\", \"25-29\", \"30-34\", \"35-39\", \"40+\"]\n",
    "\n",
    "purchase_data[\"Age Group\"] = pd.cut(purchase_data[\"Age\"],age_bins, labels=group_labels)\n",
    "age_grouped = purchase_data.groupby(\"Age Group\")\n",
    "total_count_age = age_grouped[\"SN\"].nunique()\n",
    "percentage_by_age = (total_count_age/total_num_players) * 100\n",
    "age_demographics = pd.DataFrame({\"Percentage of Players\": percentage_by_age, \"Total Count\": total_count_age})\n",
    "age_demographics.index.name = None\n",
    "age_demographics.style.format({\"Percentage of Players\":\"{:,.2f}\"})"
   ]
  },
  {
   "cell_type": "markdown",
   "metadata": {},
   "source": [
    "## Purchasing Analysis (Age)"
   ]
  },
  {
   "cell_type": "markdown",
   "metadata": {},
   "source": [
    "* Bin the purchase_data data frame by age\n",
    "\n",
    "\n",
    "* Run basic calculations to obtain purchase count, avg. purchase price, avg. purchase total per person etc. in the table below\n",
    "\n",
    "\n",
    "* Create a summary data frame to hold the results\n",
    "\n",
    "\n",
    "* Optional: give the displayed data cleaner formatting\n",
    "\n",
    "\n",
    "* Display the summary data frame"
   ]
  },
  {
   "cell_type": "code",
   "execution_count": 15,
   "metadata": {},
   "outputs": [
    {
     "data": {
      "text/html": [
       "<style  type=\"text/css\" >\n",
       "</style>  \n",
       "<table id=\"T_cfc18aee_47bf_11e9_9595_b4ae2bd8ef30\" > \n",
       "<thead>    <tr> \n",
       "        <th class=\"blank level0\" ></th> \n",
       "        <th class=\"col_heading level0 col0\" >Purchase Count</th> \n",
       "        <th class=\"col_heading level0 col1\" >Average Purchase Price</th> \n",
       "        <th class=\"col_heading level0 col2\" >Total Purchase Value</th> \n",
       "        <th class=\"col_heading level0 col3\" >Average Purchase Total per Person</th> \n",
       "    </tr></thead> \n",
       "<tbody>    <tr> \n",
       "        <th id=\"T_cfc18aee_47bf_11e9_9595_b4ae2bd8ef30level0_row0\" class=\"row_heading level0 row0\" ><10</th> \n",
       "        <td id=\"T_cfc18aee_47bf_11e9_9595_b4ae2bd8ef30row0_col0\" class=\"data row0 col0\" >23</td> \n",
       "        <td id=\"T_cfc18aee_47bf_11e9_9595_b4ae2bd8ef30row0_col1\" class=\"data row0 col1\" >$3.35</td> \n",
       "        <td id=\"T_cfc18aee_47bf_11e9_9595_b4ae2bd8ef30row0_col2\" class=\"data row0 col2\" >$77.13</td> \n",
       "        <td id=\"T_cfc18aee_47bf_11e9_9595_b4ae2bd8ef30row0_col3\" class=\"data row0 col3\" >$4.54</td> \n",
       "    </tr>    <tr> \n",
       "        <th id=\"T_cfc18aee_47bf_11e9_9595_b4ae2bd8ef30level0_row1\" class=\"row_heading level0 row1\" >10-14</th> \n",
       "        <td id=\"T_cfc18aee_47bf_11e9_9595_b4ae2bd8ef30row1_col0\" class=\"data row1 col0\" >28</td> \n",
       "        <td id=\"T_cfc18aee_47bf_11e9_9595_b4ae2bd8ef30row1_col1\" class=\"data row1 col1\" >$2.96</td> \n",
       "        <td id=\"T_cfc18aee_47bf_11e9_9595_b4ae2bd8ef30row1_col2\" class=\"data row1 col2\" >$82.78</td> \n",
       "        <td id=\"T_cfc18aee_47bf_11e9_9595_b4ae2bd8ef30row1_col3\" class=\"data row1 col3\" >$3.76</td> \n",
       "    </tr>    <tr> \n",
       "        <th id=\"T_cfc18aee_47bf_11e9_9595_b4ae2bd8ef30level0_row2\" class=\"row_heading level0 row2\" >15-19</th> \n",
       "        <td id=\"T_cfc18aee_47bf_11e9_9595_b4ae2bd8ef30row2_col0\" class=\"data row2 col0\" >136</td> \n",
       "        <td id=\"T_cfc18aee_47bf_11e9_9595_b4ae2bd8ef30row2_col1\" class=\"data row2 col1\" >$3.04</td> \n",
       "        <td id=\"T_cfc18aee_47bf_11e9_9595_b4ae2bd8ef30row2_col2\" class=\"data row2 col2\" >$412.89</td> \n",
       "        <td id=\"T_cfc18aee_47bf_11e9_9595_b4ae2bd8ef30row2_col3\" class=\"data row2 col3\" >$3.86</td> \n",
       "    </tr>    <tr> \n",
       "        <th id=\"T_cfc18aee_47bf_11e9_9595_b4ae2bd8ef30level0_row3\" class=\"row_heading level0 row3\" >20-24</th> \n",
       "        <td id=\"T_cfc18aee_47bf_11e9_9595_b4ae2bd8ef30row3_col0\" class=\"data row3 col0\" >365</td> \n",
       "        <td id=\"T_cfc18aee_47bf_11e9_9595_b4ae2bd8ef30row3_col1\" class=\"data row3 col1\" >$3.05</td> \n",
       "        <td id=\"T_cfc18aee_47bf_11e9_9595_b4ae2bd8ef30row3_col2\" class=\"data row3 col2\" >$1,114.06</td> \n",
       "        <td id=\"T_cfc18aee_47bf_11e9_9595_b4ae2bd8ef30row3_col3\" class=\"data row3 col3\" >$4.32</td> \n",
       "    </tr>    <tr> \n",
       "        <th id=\"T_cfc18aee_47bf_11e9_9595_b4ae2bd8ef30level0_row4\" class=\"row_heading level0 row4\" >25-29</th> \n",
       "        <td id=\"T_cfc18aee_47bf_11e9_9595_b4ae2bd8ef30row4_col0\" class=\"data row4 col0\" >101</td> \n",
       "        <td id=\"T_cfc18aee_47bf_11e9_9595_b4ae2bd8ef30row4_col1\" class=\"data row4 col1\" >$2.90</td> \n",
       "        <td id=\"T_cfc18aee_47bf_11e9_9595_b4ae2bd8ef30row4_col2\" class=\"data row4 col2\" >$293.00</td> \n",
       "        <td id=\"T_cfc18aee_47bf_11e9_9595_b4ae2bd8ef30row4_col3\" class=\"data row4 col3\" >$3.81</td> \n",
       "    </tr>    <tr> \n",
       "        <th id=\"T_cfc18aee_47bf_11e9_9595_b4ae2bd8ef30level0_row5\" class=\"row_heading level0 row5\" >30-34</th> \n",
       "        <td id=\"T_cfc18aee_47bf_11e9_9595_b4ae2bd8ef30row5_col0\" class=\"data row5 col0\" >73</td> \n",
       "        <td id=\"T_cfc18aee_47bf_11e9_9595_b4ae2bd8ef30row5_col1\" class=\"data row5 col1\" >$2.93</td> \n",
       "        <td id=\"T_cfc18aee_47bf_11e9_9595_b4ae2bd8ef30row5_col2\" class=\"data row5 col2\" >$214.00</td> \n",
       "        <td id=\"T_cfc18aee_47bf_11e9_9595_b4ae2bd8ef30row5_col3\" class=\"data row5 col3\" >$4.12</td> \n",
       "    </tr>    <tr> \n",
       "        <th id=\"T_cfc18aee_47bf_11e9_9595_b4ae2bd8ef30level0_row6\" class=\"row_heading level0 row6\" >35-39</th> \n",
       "        <td id=\"T_cfc18aee_47bf_11e9_9595_b4ae2bd8ef30row6_col0\" class=\"data row6 col0\" >41</td> \n",
       "        <td id=\"T_cfc18aee_47bf_11e9_9595_b4ae2bd8ef30row6_col1\" class=\"data row6 col1\" >$3.60</td> \n",
       "        <td id=\"T_cfc18aee_47bf_11e9_9595_b4ae2bd8ef30row6_col2\" class=\"data row6 col2\" >$147.67</td> \n",
       "        <td id=\"T_cfc18aee_47bf_11e9_9595_b4ae2bd8ef30row6_col3\" class=\"data row6 col3\" >$4.76</td> \n",
       "    </tr>    <tr> \n",
       "        <th id=\"T_cfc18aee_47bf_11e9_9595_b4ae2bd8ef30level0_row7\" class=\"row_heading level0 row7\" >40+</th> \n",
       "        <td id=\"T_cfc18aee_47bf_11e9_9595_b4ae2bd8ef30row7_col0\" class=\"data row7 col0\" >13</td> \n",
       "        <td id=\"T_cfc18aee_47bf_11e9_9595_b4ae2bd8ef30row7_col1\" class=\"data row7 col1\" >$2.94</td> \n",
       "        <td id=\"T_cfc18aee_47bf_11e9_9595_b4ae2bd8ef30row7_col2\" class=\"data row7 col2\" >$38.24</td> \n",
       "        <td id=\"T_cfc18aee_47bf_11e9_9595_b4ae2bd8ef30row7_col3\" class=\"data row7 col3\" >$3.19</td> \n",
       "    </tr></tbody> \n",
       "</table> "
      ],
      "text/plain": [
       "<pandas.io.formats.style.Styler at 0x1ed251376a0>"
      ]
     },
     "execution_count": 15,
     "metadata": {},
     "output_type": "execute_result"
    }
   ],
   "source": [
    "purchase_count_age = age_grouped[\"Purchase ID\"].count()\n",
    "avg_purchase_price_age = age_grouped[\"Price\"].mean()\n",
    "total_purchase_value = age_grouped[\"Price\"].sum()\n",
    "\n",
    "avg_purchase_per_person_age = total_purchase_value/total_count_age\n",
    "\n",
    "age_demographics = pd.DataFrame({\"Purchase Count\": purchase_count_age,\"Average Purchase Price\": avg_purchase_price_age,\n",
    "                                 \"Total Purchase Value\":total_purchase_value,\"Average Purchase Total per Person\": avg_purchase_per_person_age})\n",
    "\n",
    "age_demographics.index.name = None\n",
    "\n",
    "age_demographics.style.format({\"Average Purchase Price\":\"${:,.2f}\",\n",
    "                               \"Total Purchase Value\":\"${:,.2f}\",\n",
    "                               \"Average Purchase Total per Person\":\"${:,.2f}\"})"
   ]
  },
  {
   "cell_type": "markdown",
   "metadata": {},
   "source": [
    "## Top Spenders"
   ]
  },
  {
   "cell_type": "markdown",
   "metadata": {},
   "source": [
    "* Run basic calculations to obtain the results in the table below\n",
    "\n",
    "\n",
    "* Create a summary data frame to hold the results\n",
    "\n",
    "\n",
    "* Sort the total purchase value column in descending order\n",
    "\n",
    "\n",
    "* Optional: give the displayed data cleaner formatting\n",
    "\n",
    "\n",
    "* Display a preview of the summary data frame\n",
    "\n"
   ]
  },
  {
   "cell_type": "code",
   "execution_count": 16,
   "metadata": {},
   "outputs": [
    {
     "data": {
      "text/html": [
       "<style  type=\"text/css\" >\n",
       "</style>  \n",
       "<table id=\"T_d132bc5c_47bf_11e9_b816_b4ae2bd8ef30\" > \n",
       "<thead>    <tr> \n",
       "        <th class=\"blank level0\" ></th> \n",
       "        <th class=\"col_heading level0 col0\" >Purchase Count</th> \n",
       "        <th class=\"col_heading level0 col1\" >Average Purchase Price</th> \n",
       "        <th class=\"col_heading level0 col2\" >Total Purchase Value</th> \n",
       "    </tr>    <tr> \n",
       "        <th class=\"index_name level0\" >SN</th> \n",
       "        <th class=\"blank\" ></th> \n",
       "        <th class=\"blank\" ></th> \n",
       "        <th class=\"blank\" ></th> \n",
       "    </tr></thead> \n",
       "<tbody>    <tr> \n",
       "        <th id=\"T_d132bc5c_47bf_11e9_b816_b4ae2bd8ef30level0_row0\" class=\"row_heading level0 row0\" >Lisosia93</th> \n",
       "        <td id=\"T_d132bc5c_47bf_11e9_b816_b4ae2bd8ef30row0_col0\" class=\"data row0 col0\" >5</td> \n",
       "        <td id=\"T_d132bc5c_47bf_11e9_b816_b4ae2bd8ef30row0_col1\" class=\"data row0 col1\" >$3.79</td> \n",
       "        <td id=\"T_d132bc5c_47bf_11e9_b816_b4ae2bd8ef30row0_col2\" class=\"data row0 col2\" >$18.96</td> \n",
       "    </tr>    <tr> \n",
       "        <th id=\"T_d132bc5c_47bf_11e9_b816_b4ae2bd8ef30level0_row1\" class=\"row_heading level0 row1\" >Idastidru52</th> \n",
       "        <td id=\"T_d132bc5c_47bf_11e9_b816_b4ae2bd8ef30row1_col0\" class=\"data row1 col0\" >4</td> \n",
       "        <td id=\"T_d132bc5c_47bf_11e9_b816_b4ae2bd8ef30row1_col1\" class=\"data row1 col1\" >$3.86</td> \n",
       "        <td id=\"T_d132bc5c_47bf_11e9_b816_b4ae2bd8ef30row1_col2\" class=\"data row1 col2\" >$15.45</td> \n",
       "    </tr>    <tr> \n",
       "        <th id=\"T_d132bc5c_47bf_11e9_b816_b4ae2bd8ef30level0_row2\" class=\"row_heading level0 row2\" >Chamjask73</th> \n",
       "        <td id=\"T_d132bc5c_47bf_11e9_b816_b4ae2bd8ef30row2_col0\" class=\"data row2 col0\" >3</td> \n",
       "        <td id=\"T_d132bc5c_47bf_11e9_b816_b4ae2bd8ef30row2_col1\" class=\"data row2 col1\" >$4.61</td> \n",
       "        <td id=\"T_d132bc5c_47bf_11e9_b816_b4ae2bd8ef30row2_col2\" class=\"data row2 col2\" >$13.83</td> \n",
       "    </tr>    <tr> \n",
       "        <th id=\"T_d132bc5c_47bf_11e9_b816_b4ae2bd8ef30level0_row3\" class=\"row_heading level0 row3\" >Iral74</th> \n",
       "        <td id=\"T_d132bc5c_47bf_11e9_b816_b4ae2bd8ef30row3_col0\" class=\"data row3 col0\" >4</td> \n",
       "        <td id=\"T_d132bc5c_47bf_11e9_b816_b4ae2bd8ef30row3_col1\" class=\"data row3 col1\" >$3.40</td> \n",
       "        <td id=\"T_d132bc5c_47bf_11e9_b816_b4ae2bd8ef30row3_col2\" class=\"data row3 col2\" >$13.62</td> \n",
       "    </tr>    <tr> \n",
       "        <th id=\"T_d132bc5c_47bf_11e9_b816_b4ae2bd8ef30level0_row4\" class=\"row_heading level0 row4\" >Iskadarya95</th> \n",
       "        <td id=\"T_d132bc5c_47bf_11e9_b816_b4ae2bd8ef30row4_col0\" class=\"data row4 col0\" >3</td> \n",
       "        <td id=\"T_d132bc5c_47bf_11e9_b816_b4ae2bd8ef30row4_col1\" class=\"data row4 col1\" >$4.37</td> \n",
       "        <td id=\"T_d132bc5c_47bf_11e9_b816_b4ae2bd8ef30row4_col2\" class=\"data row4 col2\" >$13.10</td> \n",
       "    </tr></tbody> \n",
       "</table> "
      ],
      "text/plain": [
       "<pandas.io.formats.style.Styler at 0x1ed25137ba8>"
      ]
     },
     "execution_count": 16,
     "metadata": {},
     "output_type": "execute_result"
    }
   ],
   "source": [
    "spender_stats = purchase_data.groupby(\"SN\")\n",
    "\n",
    "purchase_spender_count = spender_stats[\"Purchase ID\"].count()\n",
    "purchase_price_spender_mean = spender_stats[\"Price\"].mean()\n",
    "purchase_spender_total = spender_stats[\"Price\"].sum()\n",
    "\n",
    "top_spenders = pd.DataFrame({\"Purchase Count\": purchase_spender_count,\"Average Purchase Price\": purchase_price_spender_mean,\n",
    "                             \"Total Purchase Value\":purchase_spender_total})\n",
    "\n",
    "formatted_spenders = top_spenders.sort_values([\"Total Purchase Value\"], ascending=False).head()\n",
    "\n",
    "formatted_spenders.style.format({\"Average Purchase Total\":\"${:,.2f}\",\"Average Purchase Price\":\"${:,.2f}\", \n",
    "                                 \"Total Purchase Value\":\"${:,.2f}\"})"
   ]
  },
  {
   "cell_type": "markdown",
   "metadata": {},
   "source": [
    "## Most Popular Items"
   ]
  },
  {
   "cell_type": "markdown",
   "metadata": {},
   "source": [
    "* Retrieve the Item ID, Item Name, and Item Price columns\n",
    "\n",
    "\n",
    "* Group by Item ID and Item Name. Perform calculations to obtain purchase count, item price, and total purchase value\n",
    "\n",
    "\n",
    "* Create a summary data frame to hold the results\n",
    "\n",
    "\n",
    "* Sort the purchase count column in descending order\n",
    "\n",
    "\n",
    "* Optional: give the displayed data cleaner formatting\n",
    "\n",
    "\n",
    "* Display a preview of the summary data frame\n",
    "\n"
   ]
  },
  {
   "cell_type": "code",
   "execution_count": 17,
   "metadata": {},
   "outputs": [
    {
     "data": {
      "text/html": [
       "<style  type=\"text/css\" >\n",
       "</style>  \n",
       "<table id=\"T_d3133c9a_47bf_11e9_bac3_b4ae2bd8ef30\" > \n",
       "<thead>    <tr> \n",
       "        <th class=\"blank\" ></th> \n",
       "        <th class=\"blank level0\" ></th> \n",
       "        <th class=\"col_heading level0 col0\" >Purchase Count</th> \n",
       "        <th class=\"col_heading level0 col1\" >Item Price</th> \n",
       "        <th class=\"col_heading level0 col2\" >Total Purchase Value</th> \n",
       "    </tr>    <tr> \n",
       "        <th class=\"index_name level0\" >Item ID</th> \n",
       "        <th class=\"index_name level1\" >Item Name</th> \n",
       "        <th class=\"blank\" ></th> \n",
       "        <th class=\"blank\" ></th> \n",
       "        <th class=\"blank\" ></th> \n",
       "    </tr></thead> \n",
       "<tbody>    <tr> \n",
       "        <th id=\"T_d3133c9a_47bf_11e9_bac3_b4ae2bd8ef30level0_row0\" class=\"row_heading level0 row0\" >178</th> \n",
       "        <th id=\"T_d3133c9a_47bf_11e9_bac3_b4ae2bd8ef30level1_row0\" class=\"row_heading level1 row0\" >Oathbreaker, Last Hope of the Breaking Storm</th> \n",
       "        <td id=\"T_d3133c9a_47bf_11e9_bac3_b4ae2bd8ef30row0_col0\" class=\"data row0 col0\" >12</td> \n",
       "        <td id=\"T_d3133c9a_47bf_11e9_bac3_b4ae2bd8ef30row0_col1\" class=\"data row0 col1\" >$4.23</td> \n",
       "        <td id=\"T_d3133c9a_47bf_11e9_bac3_b4ae2bd8ef30row0_col2\" class=\"data row0 col2\" >$50.76</td> \n",
       "    </tr>    <tr> \n",
       "        <th id=\"T_d3133c9a_47bf_11e9_bac3_b4ae2bd8ef30level0_row1\" class=\"row_heading level0 row1\" >145</th> \n",
       "        <th id=\"T_d3133c9a_47bf_11e9_bac3_b4ae2bd8ef30level1_row1\" class=\"row_heading level1 row1\" >Fiery Glass Crusader</th> \n",
       "        <td id=\"T_d3133c9a_47bf_11e9_bac3_b4ae2bd8ef30row1_col0\" class=\"data row1 col0\" >9</td> \n",
       "        <td id=\"T_d3133c9a_47bf_11e9_bac3_b4ae2bd8ef30row1_col1\" class=\"data row1 col1\" >$4.58</td> \n",
       "        <td id=\"T_d3133c9a_47bf_11e9_bac3_b4ae2bd8ef30row1_col2\" class=\"data row1 col2\" >$41.22</td> \n",
       "    </tr>    <tr> \n",
       "        <th id=\"T_d3133c9a_47bf_11e9_bac3_b4ae2bd8ef30level0_row2\" class=\"row_heading level0 row2\" >108</th> \n",
       "        <th id=\"T_d3133c9a_47bf_11e9_bac3_b4ae2bd8ef30level1_row2\" class=\"row_heading level1 row2\" >Extraction, Quickblade Of Trembling Hands</th> \n",
       "        <td id=\"T_d3133c9a_47bf_11e9_bac3_b4ae2bd8ef30row2_col0\" class=\"data row2 col0\" >9</td> \n",
       "        <td id=\"T_d3133c9a_47bf_11e9_bac3_b4ae2bd8ef30row2_col1\" class=\"data row2 col1\" >$3.53</td> \n",
       "        <td id=\"T_d3133c9a_47bf_11e9_bac3_b4ae2bd8ef30row2_col2\" class=\"data row2 col2\" >$31.77</td> \n",
       "    </tr>    <tr> \n",
       "        <th id=\"T_d3133c9a_47bf_11e9_bac3_b4ae2bd8ef30level0_row3\" class=\"row_heading level0 row3\" >82</th> \n",
       "        <th id=\"T_d3133c9a_47bf_11e9_bac3_b4ae2bd8ef30level1_row3\" class=\"row_heading level1 row3\" >Nirvana</th> \n",
       "        <td id=\"T_d3133c9a_47bf_11e9_bac3_b4ae2bd8ef30row3_col0\" class=\"data row3 col0\" >9</td> \n",
       "        <td id=\"T_d3133c9a_47bf_11e9_bac3_b4ae2bd8ef30row3_col1\" class=\"data row3 col1\" >$4.90</td> \n",
       "        <td id=\"T_d3133c9a_47bf_11e9_bac3_b4ae2bd8ef30row3_col2\" class=\"data row3 col2\" >$44.10</td> \n",
       "    </tr>    <tr> \n",
       "        <th id=\"T_d3133c9a_47bf_11e9_bac3_b4ae2bd8ef30level0_row4\" class=\"row_heading level0 row4\" >19</th> \n",
       "        <th id=\"T_d3133c9a_47bf_11e9_bac3_b4ae2bd8ef30level1_row4\" class=\"row_heading level1 row4\" >Pursuit, Cudgel of Necromancy</th> \n",
       "        <td id=\"T_d3133c9a_47bf_11e9_bac3_b4ae2bd8ef30row4_col0\" class=\"data row4 col0\" >8</td> \n",
       "        <td id=\"T_d3133c9a_47bf_11e9_bac3_b4ae2bd8ef30row4_col1\" class=\"data row4 col1\" >$1.02</td> \n",
       "        <td id=\"T_d3133c9a_47bf_11e9_bac3_b4ae2bd8ef30row4_col2\" class=\"data row4 col2\" >$8.16</td> \n",
       "    </tr></tbody> \n",
       "</table> "
      ],
      "text/plain": [
       "<pandas.io.formats.style.Styler at 0x1ed218a37b8>"
      ]
     },
     "execution_count": 17,
     "metadata": {},
     "output_type": "execute_result"
    }
   ],
   "source": [
    "items = purchase_data[[\"Item ID\", \"Item Name\", \"Price\"]]\n",
    "item_stats = items.groupby([\"Item ID\",\"Item Name\"])\n",
    "\n",
    "purchase_item_count = item_stats[\"Price\"].count()\n",
    "purchase_value_sum = (item_stats[\"Price\"].sum()) \n",
    "\n",
    "item_price = purchase_value_sum/purchase_item_count\n",
    "\n",
    "most_popular_items = pd.DataFrame({\"Purchase Count\": purchase_item_count, \"Item Price\": item_price,\n",
    "                                   \"Total Purchase Value\":purchase_value_sum})\n",
    "\n",
    "popular_formatted = most_popular_items.sort_values([\"Purchase Count\"], ascending=False).head()\n",
    "\n",
    "popular_formatted.style.format({\"Item Price\":\"${:,.2f}\",\"Total Purchase Value\":\"${:,.2f}\"})"
   ]
  },
  {
   "cell_type": "markdown",
   "metadata": {},
   "source": [
    "## Most Profitable Items"
   ]
  },
  {
   "cell_type": "markdown",
   "metadata": {},
   "source": [
    "* Sort the above table by total purchase value in descending order\n",
    "\n",
    "\n",
    "* Optional: give the displayed data cleaner formatting\n",
    "\n",
    "\n",
    "* Display a preview of the data frame\n",
    "\n"
   ]
  },
  {
   "cell_type": "code",
   "execution_count": 18,
   "metadata": {
    "scrolled": true
   },
   "outputs": [
    {
     "data": {
      "text/html": [
       "<style  type=\"text/css\" >\n",
       "</style>  \n",
       "<table id=\"T_d637d5f0_47bf_11e9_bc5e_b4ae2bd8ef30\" > \n",
       "<thead>    <tr> \n",
       "        <th class=\"blank\" ></th> \n",
       "        <th class=\"blank level0\" ></th> \n",
       "        <th class=\"col_heading level0 col0\" >Purchase Count</th> \n",
       "        <th class=\"col_heading level0 col1\" >Item Price</th> \n",
       "        <th class=\"col_heading level0 col2\" >Total Purchase Value</th> \n",
       "    </tr>    <tr> \n",
       "        <th class=\"index_name level0\" >Item ID</th> \n",
       "        <th class=\"index_name level1\" >Item Name</th> \n",
       "        <th class=\"blank\" ></th> \n",
       "        <th class=\"blank\" ></th> \n",
       "        <th class=\"blank\" ></th> \n",
       "    </tr></thead> \n",
       "<tbody>    <tr> \n",
       "        <th id=\"T_d637d5f0_47bf_11e9_bc5e_b4ae2bd8ef30level0_row0\" class=\"row_heading level0 row0\" >178</th> \n",
       "        <th id=\"T_d637d5f0_47bf_11e9_bc5e_b4ae2bd8ef30level1_row0\" class=\"row_heading level1 row0\" >Oathbreaker, Last Hope of the Breaking Storm</th> \n",
       "        <td id=\"T_d637d5f0_47bf_11e9_bc5e_b4ae2bd8ef30row0_col0\" class=\"data row0 col0\" >12</td> \n",
       "        <td id=\"T_d637d5f0_47bf_11e9_bc5e_b4ae2bd8ef30row0_col1\" class=\"data row0 col1\" >$4.23</td> \n",
       "        <td id=\"T_d637d5f0_47bf_11e9_bc5e_b4ae2bd8ef30row0_col2\" class=\"data row0 col2\" >$50.76</td> \n",
       "    </tr>    <tr> \n",
       "        <th id=\"T_d637d5f0_47bf_11e9_bc5e_b4ae2bd8ef30level0_row1\" class=\"row_heading level0 row1\" >82</th> \n",
       "        <th id=\"T_d637d5f0_47bf_11e9_bc5e_b4ae2bd8ef30level1_row1\" class=\"row_heading level1 row1\" >Nirvana</th> \n",
       "        <td id=\"T_d637d5f0_47bf_11e9_bc5e_b4ae2bd8ef30row1_col0\" class=\"data row1 col0\" >9</td> \n",
       "        <td id=\"T_d637d5f0_47bf_11e9_bc5e_b4ae2bd8ef30row1_col1\" class=\"data row1 col1\" >$4.90</td> \n",
       "        <td id=\"T_d637d5f0_47bf_11e9_bc5e_b4ae2bd8ef30row1_col2\" class=\"data row1 col2\" >$44.10</td> \n",
       "    </tr>    <tr> \n",
       "        <th id=\"T_d637d5f0_47bf_11e9_bc5e_b4ae2bd8ef30level0_row2\" class=\"row_heading level0 row2\" >145</th> \n",
       "        <th id=\"T_d637d5f0_47bf_11e9_bc5e_b4ae2bd8ef30level1_row2\" class=\"row_heading level1 row2\" >Fiery Glass Crusader</th> \n",
       "        <td id=\"T_d637d5f0_47bf_11e9_bc5e_b4ae2bd8ef30row2_col0\" class=\"data row2 col0\" >9</td> \n",
       "        <td id=\"T_d637d5f0_47bf_11e9_bc5e_b4ae2bd8ef30row2_col1\" class=\"data row2 col1\" >$4.58</td> \n",
       "        <td id=\"T_d637d5f0_47bf_11e9_bc5e_b4ae2bd8ef30row2_col2\" class=\"data row2 col2\" >$41.22</td> \n",
       "    </tr>    <tr> \n",
       "        <th id=\"T_d637d5f0_47bf_11e9_bc5e_b4ae2bd8ef30level0_row3\" class=\"row_heading level0 row3\" >92</th> \n",
       "        <th id=\"T_d637d5f0_47bf_11e9_bc5e_b4ae2bd8ef30level1_row3\" class=\"row_heading level1 row3\" >Final Critic</th> \n",
       "        <td id=\"T_d637d5f0_47bf_11e9_bc5e_b4ae2bd8ef30row3_col0\" class=\"data row3 col0\" >8</td> \n",
       "        <td id=\"T_d637d5f0_47bf_11e9_bc5e_b4ae2bd8ef30row3_col1\" class=\"data row3 col1\" >$4.88</td> \n",
       "        <td id=\"T_d637d5f0_47bf_11e9_bc5e_b4ae2bd8ef30row3_col2\" class=\"data row3 col2\" >$39.04</td> \n",
       "    </tr>    <tr> \n",
       "        <th id=\"T_d637d5f0_47bf_11e9_bc5e_b4ae2bd8ef30level0_row4\" class=\"row_heading level0 row4\" >103</th> \n",
       "        <th id=\"T_d637d5f0_47bf_11e9_bc5e_b4ae2bd8ef30level1_row4\" class=\"row_heading level1 row4\" >Singed Scalpel</th> \n",
       "        <td id=\"T_d637d5f0_47bf_11e9_bc5e_b4ae2bd8ef30row4_col0\" class=\"data row4 col0\" >8</td> \n",
       "        <td id=\"T_d637d5f0_47bf_11e9_bc5e_b4ae2bd8ef30row4_col1\" class=\"data row4 col1\" >$4.35</td> \n",
       "        <td id=\"T_d637d5f0_47bf_11e9_bc5e_b4ae2bd8ef30row4_col2\" class=\"data row4 col2\" >$34.80</td> \n",
       "    </tr></tbody> \n",
       "</table> "
      ],
      "text/plain": [
       "<pandas.io.formats.style.Styler at 0x1ed2417b860>"
      ]
     },
     "execution_count": 18,
     "metadata": {},
     "output_type": "execute_result"
    }
   ],
   "source": [
    "popular_formatted = most_popular_items.sort_values([\"Total Purchase Value\"],ascending=False).head()\n",
    "\n",
    "popular_formatted.style.format({\"Item Price\":\"${:,.2f}\",\"Total Purchase Value\":\"${:,.2f}\"})"
   ]
  }
 ],
 "metadata": {
  "anaconda-cloud": {},
  "kernel_info": {
   "name": "python3"
  },
  "kernelspec": {
   "display_name": "Python 3",
   "language": "python",
   "name": "python3"
  },
  "language_info": {
   "codemirror_mode": {
    "name": "ipython",
    "version": 3
   },
   "file_extension": ".py",
   "mimetype": "text/x-python",
   "name": "python",
   "nbconvert_exporter": "python",
   "pygments_lexer": "ipython3",
   "version": "3.6.7"
  },
  "nteract": {
   "version": "0.2.0"
  }
 },
 "nbformat": 4,
 "nbformat_minor": 2
}
